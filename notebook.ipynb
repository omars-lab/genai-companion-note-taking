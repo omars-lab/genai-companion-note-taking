{
 "cells": [
  {
   "cell_type": "code",
   "execution_count": null,
   "metadata": {},
   "outputs": [],
   "source": [
    "%run setup.ipynb"
   ]
  },
  {
   "cell_type": "markdown",
   "metadata": {},
   "source": [
    "# Basic LLM Invocation"
   ]
  },
  {
   "cell_type": "code",
   "execution_count": null,
   "metadata": {},
   "outputs": [],
   "source": [
    "# https://python.langchain.com/docs/integrations/chat/openai/\n",
    "from langchain_openai import ChatOpenAI\n",
    "llm = ChatOpenAI(\n",
    "    # See Choosing a Model\n",
    "    model=\"gpt-4o-mini\",\n",
    "    temperature=0.9\n",
    ")\n",
    "name = llm.invoke(\"\"\"\n",
    "    I want to build a llm agent that serves as a buddy to help me organize my notes, thoughts, todos, etc. \n",
    "    Suggest a good, catchy name for this app. \n",
    "    Keep the repsonse concise and pick top 3.\n",
    "\"\"\")\n",
    "print(name)"
   ]
  },
  {
   "cell_type": "markdown",
   "metadata": {},
   "source": [
    "# Example of Prompt Chaining"
   ]
  },
  {
   "cell_type": "code",
   "execution_count": null,
   "metadata": {},
   "outputs": [],
   "source": [
    "from langchain.prompts import PromptTemplate\n",
    "\n",
    "gn_pt = PromptTemplate(\n",
    "    input_variables=['usecase'],\n",
    "    template = \"\"\"\n",
    "    I want to build a llm agent that serves as {usecase}. \n",
    "    Suggest a good, catchy name for this app that creatively includes the term AI in the name but still makes sense.\n",
    "    Also ensure the name for the application gives off buddy vibes.\n",
    "    Keep the repsonse concise and pick top 3.\n",
    "    \"\"\"\n",
    ")\n",
    "\n",
    "usecase = \"a buddy to help me organize my notes, thoughts, todos, etc\"\n",
    "gn_pt.format(usecase=usecase)"
   ]
  },
  {
   "cell_type": "code",
   "execution_count": null,
   "metadata": {},
   "outputs": [],
   "source": [
    "gk_pt = PromptTemplate(\n",
    "    input_variables=['usecase', 'names'],\n",
    "    template = \"\"\"\n",
    "    Given I want to develop a genAI companion with one of these names: {names} for this use case: {usecase}, determine what search keywords are worth sponsoring in google search for each of the names. \n",
    "    Pick the most profitable 5 for each name.\n",
    "    Format them as a JSON object where each key is the name and the value is the list is the keywords to sponsor for the name.\n",
    "    \"\"\"\n",
    ")\n",
    "\n",
    "usecase = \"a buddy to help me organize my notes, thoughts, todos, etc\"\n",
    "gk_pt.format(usecase=usecase, names=\"a, b, c\")"
   ]
  },
  {
   "cell_type": "code",
   "execution_count": null,
   "metadata": {},
   "outputs": [],
   "source": [
    "# from langchain_core.output_parsers.json import SimpleJsonOutputParser\n",
    "from IPython.display import display\n",
    "from langchain_core.output_parsers import StrOutputParser\n",
    "from langchain_core.output_parsers import JsonOutputParser\n",
    "\n",
    "from operator import itemgetter\n",
    "\n",
    "name_gen_chain = gn_pt | llm | StrOutputParser()\n",
    "\n",
    "# https://python.langchain.com/docs/how_to/output_parser_json/ \n",
    "keyword_gen_chain = gk_pt | llm | JsonOutputParser()\n",
    "\n",
    "# LCEL: https://stackoverflow.com/questions/76788293/how-to-include-the-inputs-of-the-first-chain-to-the-second-chain-in-langchains\n",
    "# Lang Chain Expression Language\n",
    "overall_chain = {\"names\": name_gen_chain, \"usecase\": itemgetter(\"usecase\")} | keyword_gen_chain"
   ]
  },
  {
   "cell_type": "code",
   "execution_count": null,
   "metadata": {},
   "outputs": [],
   "source": [
    "import json\n",
    "print(json.dumps(overall_chain.invoke({'usecase': usecase}), indent=4))"
   ]
  },
  {
   "cell_type": "code",
   "execution_count": null,
   "metadata": {},
   "outputs": [],
   "source": []
  }
 ],
 "metadata": {
  "kernelspec": {
   "display_name": "genai-note-companion",
   "language": "python",
   "name": "python3"
  },
  "language_info": {
   "codemirror_mode": {
    "name": "ipython",
    "version": 3
   },
   "file_extension": ".py",
   "mimetype": "text/x-python",
   "name": "python",
   "nbconvert_exporter": "python",
   "pygments_lexer": "ipython3",
   "version": "3.13.2"
  }
 },
 "nbformat": 4,
 "nbformat_minor": 2
}
